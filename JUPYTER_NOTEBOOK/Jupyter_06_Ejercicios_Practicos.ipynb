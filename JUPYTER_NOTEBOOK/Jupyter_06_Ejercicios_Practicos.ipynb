{
 "cells": [
  {
   "cell_type": "code",
   "execution_count": 1,
   "id": "f79c962b-9b21-45d8-9a30-296e3368c0e0",
   "metadata": {},
   "outputs": [
    {
     "name": "stdout",
     "output_type": "stream",
     "text": [
      "0     2\n",
      "1     4\n",
      "2     6\n",
      "3     8\n",
      "4    10\n",
      "dtype: int64\n"
     ]
    }
   ],
   "source": [
    "import pandas as pd   #Creacion de una serie en pandas\n",
    "ds = pd.Series([2,4,6,8,10])\n",
    "print(ds)"
   ]
  },
  {
   "cell_type": "code",
   "execution_count": 15,
   "id": "cbb188d1-f5f1-45e4-b7b8-a54b56f0621e",
   "metadata": {},
   "outputs": [
    {
     "name": "stdout",
     "output_type": "stream",
     "text": [
      "Data series and type \n",
      "0     2\n",
      "1     4\n",
      "2     6\n",
      "3     8\n",
      "4    10\n",
      "dtype: int64\n",
      "<class 'pandas.core.series.Series'>\n",
      "Convert a pandas Series to a python list\n",
      "[2, 4, 6, 8, 10]\n",
      "<class 'list'>\n"
     ]
    }
   ],
   "source": [
    "ds2 = pd.Series([2,4,6,8,10])  #Conversion de una serie en pandas a una lista\n",
    "print(\"Data series and type \")\n",
    "print(ds2)\n",
    "print(type(ds2))\n",
    "print(\"Convert a pandas Series to a python list\")\n",
    "print(ds2.tolist())\n",
    "print(type(ds2.tolist()))"
   ]
  },
  {
   "cell_type": "code",
   "execution_count": 21,
   "id": "b5a84bc5-ef3e-4380-b69f-cd544034c2eb",
   "metadata": {},
   "outputs": [
    {
     "name": "stdout",
     "output_type": "stream",
     "text": [
      "0     2\n",
      "1     4\n",
      "2     6\n",
      "3     8\n",
      "4    10\n",
      "dtype: int64\n",
      "0    1\n",
      "1    3\n",
      "2    5\n",
      "3    7\n",
      "4    9\n",
      "dtype: int64\n",
      "Suma \n",
      "0     3\n",
      "1     7\n",
      "2    11\n",
      "3    15\n",
      "4    19\n",
      "dtype: int64\n",
      "Resta \n",
      "0    1\n",
      "1    1\n",
      "2    1\n",
      "3    1\n",
      "4    1\n",
      "dtype: int64\n",
      "Multi \n",
      "0     2\n",
      "1    12\n",
      "2    30\n",
      "3    56\n",
      "4    90\n",
      "dtype: int64\n",
      "Div \n",
      "0    2.000000\n",
      "1    1.333333\n",
      "2    1.200000\n",
      "3    1.142857\n",
      "4    1.111111\n",
      "dtype: float64\n"
     ]
    }
   ],
   "source": [
    "ds3 = pd.Series([2,4,6,8,10])  #Operaciones basicas entre series\n",
    "ds4 = pd.Series([1,3,5,7,9])\n",
    "dsS = ds3 + ds4\n",
    "dsR = ds3 - ds4 \n",
    "dsM = ds3 * ds4\n",
    "dsD = ds3 / ds4\n",
    "print(ds3)\n",
    "print(ds4)\n",
    "print(\"Suma \")\n",
    "print(dsS)\n",
    "print(\"Resta \")\n",
    "print(dsR)\n",
    "print(\"Multi \")\n",
    "print(dsM)\n",
    "print(\"Div \")\n",
    "print(dsD)\n",
    "      "
   ]
  },
  {
   "cell_type": "code",
   "execution_count": 25,
   "id": "71fd2cb5-f9b9-4b25-b780-c0e5d3d8624b",
   "metadata": {},
   "outputs": [
    {
     "name": "stdout",
     "output_type": "stream",
     "text": [
      "0     2\n",
      "1     4\n",
      "2     6\n",
      "3     8\n",
      "4    10\n",
      "dtype: int64\n",
      "0    1\n",
      "1    3\n",
      "2    5\n",
      "3    7\n",
      "4    9\n",
      "dtype: int64\n",
      "Elementos iguales \n",
      "0    False\n",
      "1    False\n",
      "2    False\n",
      "3    False\n",
      "4    False\n",
      "dtype: bool\n",
      "Elementos mayores \n",
      "0    True\n",
      "1    True\n",
      "2    True\n",
      "3    True\n",
      "4    True\n",
      "dtype: bool\n",
      "Elementos menores \n",
      "0    False\n",
      "1    False\n",
      "2    False\n",
      "3    False\n",
      "4    False\n",
      "dtype: bool\n"
     ]
    }
   ],
   "source": [
    "ds5 = pd.Series([2,4,6,8,10])  #Comparación entre elementos de dos series\n",
    "ds6 = pd.Series([1,3,5,7,9])\n",
    "print(ds5)\n",
    "print(ds6)\n",
    "\n",
    "print(\"Elementos iguales \")\n",
    "print(ds5 == ds6)\n",
    "\n",
    "print(\"Elementos mayores \")\n",
    "print(ds5 > ds6)\n",
    "\n",
    "print(\"Elementos menores \")\n",
    "print(ds5 < ds5)\n",
    "    \n",
    "  \n"
   ]
  },
  {
   "cell_type": "code",
   "execution_count": 27,
   "id": "503c39f8-35ed-4d3b-9085-58228fcc8b70",
   "metadata": {},
   "outputs": [
    {
     "name": "stdout",
     "output_type": "stream",
     "text": [
      "Diccionario original\n",
      "{'a': 100, 'b': 200, 'c': 300, 'd': 400, 'e': 800}\n",
      "Conversion a serie\n",
      "a    100\n",
      "b    200\n",
      "c    300\n",
      "d    400\n",
      "e    800\n",
      "dtype: int64\n"
     ]
    }
   ],
   "source": [
    "d1 = {'a':100, 'b':200, 'c':300, 'd':400, 'e':800} #Conversion de diccionario a serie\n",
    "print(\"Diccionario original\")\n",
    "print(d1)\n",
    "serie_nueva = pd.Series(d1)\n",
    "print(\"Conversion a serie\")\n",
    "print(serie_nueva)"
   ]
  },
  {
   "cell_type": "code",
   "execution_count": 29,
   "id": "9bd9a333-516b-45fd-a258-292454fb48ad",
   "metadata": {},
   "outputs": [
    {
     "name": "stdout",
     "output_type": "stream",
     "text": [
      "Arreglo numpy \n",
      "[10 20 30 40 50]\n",
      "Conversion a serie \n",
      "0    10\n",
      "1    20\n",
      "2    30\n",
      "3    40\n",
      "4    50\n",
      "dtype: int64\n"
     ]
    }
   ],
   "source": [
    "import numpy as np                        #Conversion de arreglo numpy a serie\n",
    "np_array = np.array([10,20,30,40,50])\n",
    "print(\"Arreglo numpy \")\n",
    "print(np_array)\n",
    "serie_nueva_2 = pd.Series(np_array)\n",
    "print(\"Conversion a serie \")\n",
    "print(serie_nueva_2)\n",
    "      \n"
   ]
  },
  {
   "cell_type": "code",
   "execution_count": 31,
   "id": "bb3f6296-9366-4a0e-b8c4-37180a0a8845",
   "metadata": {},
   "outputs": [
    {
     "name": "stdout",
     "output_type": "stream",
     "text": [
      "Serie Original \n",
      "0       100\n",
      "1       200\n",
      "2    python\n",
      "3     300.2\n",
      "4         a\n",
      "dtype: object\n",
      "Serie convertida a numerico \n",
      "0    100.0\n",
      "1    200.0\n",
      "2      NaN\n",
      "3    300.2\n",
      "4      NaN\n",
      "dtype: float64\n"
     ]
    }
   ],
   "source": [
    "s1 = pd.Series(['100','200','python','300.2','a'])  #Convertir los valores de una serie a numerico\n",
    "print(\"Serie Original \")\n",
    "print(s1)\n",
    "s2 = pd.to_numeric(s1,errors='coerce')\n",
    "print(\"Serie convertida a numerico \")\n",
    "print(s2)"
   ]
  },
  {
   "cell_type": "code",
   "execution_count": 37,
   "id": "5c98baae-5c2e-4351-9920-7d50f52dee80",
   "metadata": {},
   "outputs": [
    {
     "name": "stdout",
     "output_type": "stream",
     "text": [
      "Dataframe original: \n",
      "   col1  col2  col3\n",
      "0     1     4     7\n",
      "1     2     5     5\n",
      "2     3     6     8\n",
      "3     4     9    12\n",
      "4     7     5     1\n",
      "5    11     0    11\n",
      "Primera columna del dataframe como serie \n",
      "0     1\n",
      "1     2\n",
      "2     3\n",
      "3     4\n",
      "4     7\n",
      "5    11\n",
      "Name: col1, dtype: int64\n",
      "<class 'pandas.core.series.Series'>\n"
     ]
    }
   ],
   "source": [
    "d = {'col1':[1,2,3,4,7,11], 'col2':[4,5,6,9,5,0], 'col3':[7,5,8,12,1,11] }  #Convertir la primera columna de un dataframe a una serie\n",
    "df = pd.DataFrame(data=d)\n",
    "print(\"Dataframe original: \")\n",
    "print(df)\n",
    "s1 = df.iloc[:,0]\n",
    "print(\"Primera columna del dataframe como serie \")\n",
    "print(s1)\n",
    "print(type(s1))"
   ]
  },
  {
   "cell_type": "code",
   "execution_count": 41,
   "id": "6fa500e3-446a-4ea2-9e39-78a4bfe5bf7f",
   "metadata": {},
   "outputs": [
    {
     "name": "stdout",
     "output_type": "stream",
     "text": [
      "Serie original\n",
      "0       100\n",
      "1       200\n",
      "2    python\n",
      "3     200.2\n",
      "4         a\n",
      "dtype: object\n",
      "Conversion a serie\n",
      "['100' '200' 'python' '200.2' 'a']\n"
     ]
    }
   ],
   "source": [
    "A = pd.Series(['100','200','python','200.2','a'])  #Conversion de una serie a una lista\n",
    "print(\"Serie original\")\n",
    "print(A)\n",
    "\n",
    "A2 = np.array((A.values.tolist()))\n",
    "print(\"Conversion a serie\")\n",
    "print(A2)"
   ]
  },
  {
   "cell_type": "code",
   "execution_count": 47,
   "id": "ecaf64b3-83c5-4ab7-805a-9177b8a63853",
   "metadata": {},
   "outputs": [
    {
     "name": "stdout",
     "output_type": "stream",
     "text": [
      "Serie Original (Conjunto de Series)\n",
      "0    [Rojo, Amarillo, Verde, Azul]\n",
      "1                [Negro, Plateado]\n",
      "2                  [Violeta, Rosa]\n",
      "dtype: object\n",
      "Serie modificada (Serie Unificada)\n",
      "0        Rojo\n",
      "1    Amarillo\n",
      "2       Verde\n",
      "3        Azul\n",
      "4       Negro\n",
      "5    Plateado\n",
      "6     Violeta\n",
      "7        Rosa\n",
      "dtype: object\n"
     ]
    }
   ],
   "source": [
    "B = pd.Series (                               #Conjunto de series a una sola serie\n",
    "     [['Rojo', 'Amarillo', 'Verde', 'Azul'],\n",
    "     ['Negro', 'Plateado' ],\n",
    "     ['Violeta', 'Rosa' ]]\n",
    "  \n",
    ")\n",
    "\n",
    "print(\"Serie Original (Conjunto de Series)\")\n",
    "print(B)\n",
    "B2 = B.apply(pd.Series).stack().reset_index(drop=True)\n",
    "print(\"Serie modificada (Serie Unificada)\")\n",
    "print(B2)\n",
    "\n"
   ]
  },
  {
   "cell_type": "code",
   "execution_count": 57,
   "id": "f953260e-0c68-4860-b4ad-d8f4a40bcb70",
   "metadata": {},
   "outputs": [
    {
     "name": "stdout",
     "output_type": "stream",
     "text": [
      "Serie Original \n",
      "0      55.00\n",
      "1     200.00\n",
      "2    1200.00\n",
      "3       0.23\n",
      "4       1.00\n",
      "dtype: float64\n",
      "Serie Ordenada \n",
      "3       0.23\n",
      "4       1.00\n",
      "0      55.00\n",
      "1     200.00\n",
      "2    1200.00\n",
      "dtype: float64\n"
     ]
    }
   ],
   "source": [
    "C = pd.Series ([55,200,1200,0.23,1])   #Ordenar una serie\n",
    "print(\"Serie Original \")\n",
    "print(C)\n",
    "\n",
    "C2 = pd.Series(C).sort_values()\n",
    "print(\"Serie Ordenada \")\n",
    "print(C2)"
   ]
  },
  {
   "cell_type": "code",
   "execution_count": 63,
   "id": "e5a4bbd4-eef1-4e00-8f71-2e2b340572ef",
   "metadata": {},
   "outputs": [
    {
     "name": "stdout",
     "output_type": "stream",
     "text": [
      "Serie Original \n",
      "0    python\n",
      "1       php\n",
      "2         C\n",
      "3    kotlin\n",
      "dtype: object\n"
     ]
    },
    {
     "ename": "AttributeError",
     "evalue": "'Series' object has no attribute 'append'",
     "output_type": "error",
     "traceback": [
      "\u001b[0;31m---------------------------------------------------------------------------\u001b[0m",
      "\u001b[0;31mAttributeError\u001b[0m                            Traceback (most recent call last)",
      "\u001b[0;32m/tmp/ipykernel_6152/334619473.py\u001b[0m in \u001b[0;36m?\u001b[0;34m()\u001b[0m\n\u001b[1;32m      1\u001b[0m \u001b[0mD\u001b[0m \u001b[0;34m=\u001b[0m \u001b[0mpd\u001b[0m\u001b[0;34m.\u001b[0m\u001b[0mSeries\u001b[0m\u001b[0;34m(\u001b[0m\u001b[0;34m[\u001b[0m\u001b[0;34m'python'\u001b[0m\u001b[0;34m,\u001b[0m\u001b[0;34m'php'\u001b[0m\u001b[0;34m,\u001b[0m\u001b[0;34m'C'\u001b[0m\u001b[0;34m,\u001b[0m\u001b[0;34m'kotlin'\u001b[0m\u001b[0;34m]\u001b[0m\u001b[0;34m)\u001b[0m\u001b[0;34m\u001b[0m\u001b[0;34m\u001b[0m\u001b[0m\n\u001b[1;32m      2\u001b[0m \u001b[0mprint\u001b[0m\u001b[0;34m(\u001b[0m\u001b[0;34m\"Serie Original \"\u001b[0m\u001b[0;34m)\u001b[0m\u001b[0;34m\u001b[0m\u001b[0;34m\u001b[0m\u001b[0m\n\u001b[1;32m      3\u001b[0m \u001b[0mprint\u001b[0m\u001b[0;34m(\u001b[0m\u001b[0mD\u001b[0m\u001b[0;34m)\u001b[0m\u001b[0;34m\u001b[0m\u001b[0;34m\u001b[0m\u001b[0m\n\u001b[0;32m----> 4\u001b[0;31m \u001b[0mD2\u001b[0m \u001b[0;34m=\u001b[0m \u001b[0mD\u001b[0m\u001b[0;34m.\u001b[0m\u001b[0mappend\u001b[0m\u001b[0;34m(\u001b[0m\u001b[0mpd\u001b[0m\u001b[0;34m.\u001b[0m\u001b[0mSeries\u001b[0m\u001b[0;34m(\u001b[0m\u001b[0;34m[\u001b[0m\u001b[0;34m'Arduino'\u001b[0m\u001b[0;34m,\u001b[0m\u001b[0;34m'Javascript'\u001b[0m\u001b[0;34m,\u001b[0m\u001b[0;34m'C++'\u001b[0m\u001b[0;34m,\u001b[0m\u001b[0;34m'Visual Basic'\u001b[0m\u001b[0;34m]\u001b[0m\u001b[0;34m)\u001b[0m\u001b[0;34m)\u001b[0m\u001b[0;34m\u001b[0m\u001b[0;34m\u001b[0m\u001b[0m\n\u001b[0m\u001b[1;32m      5\u001b[0m \u001b[0mprint\u001b[0m\u001b[0;34m(\u001b[0m\u001b[0;34m\"Serie tras agregado \"\u001b[0m\u001b[0;34m)\u001b[0m\u001b[0;34m\u001b[0m\u001b[0;34m\u001b[0m\u001b[0m\n\u001b[1;32m      6\u001b[0m \u001b[0mprint\u001b[0m\u001b[0;34m(\u001b[0m\u001b[0mD2\u001b[0m\u001b[0;34m)\u001b[0m\u001b[0;34m\u001b[0m\u001b[0;34m\u001b[0m\u001b[0m\n",
      "\u001b[0;32m~/anaconda3/lib/python3.12/site-packages/pandas/core/generic.py\u001b[0m in \u001b[0;36m?\u001b[0;34m(self, name)\u001b[0m\n\u001b[1;32m   6295\u001b[0m             \u001b[0;32mand\u001b[0m \u001b[0mname\u001b[0m \u001b[0;32mnot\u001b[0m \u001b[0;32min\u001b[0m \u001b[0mself\u001b[0m\u001b[0;34m.\u001b[0m\u001b[0m_accessors\u001b[0m\u001b[0;34m\u001b[0m\u001b[0;34m\u001b[0m\u001b[0m\n\u001b[1;32m   6296\u001b[0m             \u001b[0;32mand\u001b[0m \u001b[0mself\u001b[0m\u001b[0;34m.\u001b[0m\u001b[0m_info_axis\u001b[0m\u001b[0;34m.\u001b[0m\u001b[0m_can_hold_identifiers_and_holds_name\u001b[0m\u001b[0;34m(\u001b[0m\u001b[0mname\u001b[0m\u001b[0;34m)\u001b[0m\u001b[0;34m\u001b[0m\u001b[0;34m\u001b[0m\u001b[0m\n\u001b[1;32m   6297\u001b[0m         \u001b[0;34m)\u001b[0m\u001b[0;34m:\u001b[0m\u001b[0;34m\u001b[0m\u001b[0;34m\u001b[0m\u001b[0m\n\u001b[1;32m   6298\u001b[0m             \u001b[0;32mreturn\u001b[0m \u001b[0mself\u001b[0m\u001b[0;34m[\u001b[0m\u001b[0mname\u001b[0m\u001b[0;34m]\u001b[0m\u001b[0;34m\u001b[0m\u001b[0;34m\u001b[0m\u001b[0m\n\u001b[0;32m-> 6299\u001b[0;31m         \u001b[0;32mreturn\u001b[0m \u001b[0mobject\u001b[0m\u001b[0;34m.\u001b[0m\u001b[0m__getattribute__\u001b[0m\u001b[0;34m(\u001b[0m\u001b[0mself\u001b[0m\u001b[0;34m,\u001b[0m \u001b[0mname\u001b[0m\u001b[0;34m)\u001b[0m\u001b[0;34m\u001b[0m\u001b[0;34m\u001b[0m\u001b[0m\n\u001b[0m",
      "\u001b[0;31mAttributeError\u001b[0m: 'Series' object has no attribute 'append'"
     ]
    }
   ],
   "source": [
    "D = pd.Series(['python','php','C','kotlin'])\n",
    "print(\"Serie Original \")\n",
    "print(D)\n",
    "D2 = pd.Series(['C++', 'Visual Basic'])\n",
    "\n",
    "D3= pd.concat([D, D2], ignore_index=True)\n",
    "print(\"Serie tras concatenacion \")\n",
    "pri\n"
   ]
  },
  {
   "cell_type": "code",
   "execution_count": null,
   "id": "1ddaa9c7-1f15-4d27-bae4-d3bff19826d0",
   "metadata": {},
   "outputs": [],
   "source": []
  }
 ],
 "metadata": {
  "kernelspec": {
   "display_name": "Python 3 (ipykernel)",
   "language": "python",
   "name": "python3"
  },
  "language_info": {
   "codemirror_mode": {
    "name": "ipython",
    "version": 3
   },
   "file_extension": ".py",
   "mimetype": "text/x-python",
   "name": "python",
   "nbconvert_exporter": "python",
   "pygments_lexer": "ipython3",
   "version": "3.12.4"
  }
 },
 "nbformat": 4,
 "nbformat_minor": 5
}

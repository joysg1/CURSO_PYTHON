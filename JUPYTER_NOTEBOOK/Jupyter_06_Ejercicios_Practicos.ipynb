{
 "cells": [
  {
   "cell_type": "code",
   "execution_count": 1,
   "id": "f79c962b-9b21-45d8-9a30-296e3368c0e0",
   "metadata": {},
   "outputs": [
    {
     "name": "stdout",
     "output_type": "stream",
     "text": [
      "0     2\n",
      "1     4\n",
      "2     6\n",
      "3     8\n",
      "4    10\n",
      "dtype: int64\n"
     ]
    }
   ],
   "source": [
    "import pandas as pd   #Creacion de una serie en pandas\n",
    "ds = pd.Series([2,4,6,8,10])\n",
    "print(ds)"
   ]
  },
  {
   "cell_type": "code",
   "execution_count": 15,
   "id": "cbb188d1-f5f1-45e4-b7b8-a54b56f0621e",
   "metadata": {},
   "outputs": [
    {
     "name": "stdout",
     "output_type": "stream",
     "text": [
      "Data series and type \n",
      "0     2\n",
      "1     4\n",
      "2     6\n",
      "3     8\n",
      "4    10\n",
      "dtype: int64\n",
      "<class 'pandas.core.series.Series'>\n",
      "Convert a pandas Series to a python list\n",
      "[2, 4, 6, 8, 10]\n",
      "<class 'list'>\n"
     ]
    }
   ],
   "source": [
    "ds2 = pd.Series([2,4,6,8,10])  #Conversion de una serie en pandas a una lista\n",
    "print(\"Data series and type \")\n",
    "print(ds2)\n",
    "print(type(ds2))\n",
    "print(\"Convert a pandas Series to a python list\")\n",
    "print(ds2.tolist())\n",
    "print(type(ds2.tolist()))"
   ]
  },
  {
   "cell_type": "code",
   "execution_count": 21,
   "id": "b5a84bc5-ef3e-4380-b69f-cd544034c2eb",
   "metadata": {},
   "outputs": [
    {
     "name": "stdout",
     "output_type": "stream",
     "text": [
      "0     2\n",
      "1     4\n",
      "2     6\n",
      "3     8\n",
      "4    10\n",
      "dtype: int64\n",
      "0    1\n",
      "1    3\n",
      "2    5\n",
      "3    7\n",
      "4    9\n",
      "dtype: int64\n",
      "Suma \n",
      "0     3\n",
      "1     7\n",
      "2    11\n",
      "3    15\n",
      "4    19\n",
      "dtype: int64\n",
      "Resta \n",
      "0    1\n",
      "1    1\n",
      "2    1\n",
      "3    1\n",
      "4    1\n",
      "dtype: int64\n",
      "Multi \n",
      "0     2\n",
      "1    12\n",
      "2    30\n",
      "3    56\n",
      "4    90\n",
      "dtype: int64\n",
      "Div \n",
      "0    2.000000\n",
      "1    1.333333\n",
      "2    1.200000\n",
      "3    1.142857\n",
      "4    1.111111\n",
      "dtype: float64\n"
     ]
    }
   ],
   "source": [
    "ds3 = pd.Series([2,4,6,8,10])  #Operaciones basicas entre series\n",
    "ds4 = pd.Series([1,3,5,7,9])\n",
    "dsS = ds3 + ds4\n",
    "dsR = ds3 - ds4 \n",
    "dsM = ds3 * ds4\n",
    "dsD = ds3 / ds4\n",
    "print(ds3)\n",
    "print(ds4)\n",
    "print(\"Suma \")\n",
    "print(dsS)\n",
    "print(\"Resta \")\n",
    "print(dsR)\n",
    "print(\"Multi \")\n",
    "print(dsM)\n",
    "print(\"Div \")\n",
    "print(dsD)\n",
    "      "
   ]
  },
  {
   "cell_type": "code",
   "execution_count": 25,
   "id": "71fd2cb5-f9b9-4b25-b780-c0e5d3d8624b",
   "metadata": {},
   "outputs": [
    {
     "name": "stdout",
     "output_type": "stream",
     "text": [
      "0     2\n",
      "1     4\n",
      "2     6\n",
      "3     8\n",
      "4    10\n",
      "dtype: int64\n",
      "0    1\n",
      "1    3\n",
      "2    5\n",
      "3    7\n",
      "4    9\n",
      "dtype: int64\n",
      "Elementos iguales \n",
      "0    False\n",
      "1    False\n",
      "2    False\n",
      "3    False\n",
      "4    False\n",
      "dtype: bool\n",
      "Elementos mayores \n",
      "0    True\n",
      "1    True\n",
      "2    True\n",
      "3    True\n",
      "4    True\n",
      "dtype: bool\n",
      "Elementos menores \n",
      "0    False\n",
      "1    False\n",
      "2    False\n",
      "3    False\n",
      "4    False\n",
      "dtype: bool\n"
     ]
    }
   ],
   "source": [
    "ds5 = pd.Series([2,4,6,8,10])  #Comparación entre elementos de dos series\n",
    "ds6 = pd.Series([1,3,5,7,9])\n",
    "print(ds5)\n",
    "print(ds6)\n",
    "\n",
    "print(\"Elementos iguales \")\n",
    "print(ds5 == ds6)\n",
    "\n",
    "print(\"Elementos mayores \")\n",
    "print(ds5 > ds6)\n",
    "\n",
    "print(\"Elementos menores \")\n",
    "print(ds5 < ds5)\n",
    "    \n",
    "  \n"
   ]
  },
  {
   "cell_type": "code",
   "execution_count": 27,
   "id": "503c39f8-35ed-4d3b-9085-58228fcc8b70",
   "metadata": {},
   "outputs": [
    {
     "name": "stdout",
     "output_type": "stream",
     "text": [
      "Diccionario original\n",
      "{'a': 100, 'b': 200, 'c': 300, 'd': 400, 'e': 800}\n",
      "Conversion a serie\n",
      "a    100\n",
      "b    200\n",
      "c    300\n",
      "d    400\n",
      "e    800\n",
      "dtype: int64\n"
     ]
    }
   ],
   "source": [
    "d1 = {'a':100, 'b':200, 'c':300, 'd':400, 'e':800} #Conversion de diccionario a serie\n",
    "print(\"Diccionario original\")\n",
    "print(d1)\n",
    "serie_nueva = pd.Series(d1)\n",
    "print(\"Conversion a serie\")\n",
    "print(serie_nueva)"
   ]
  },
  {
   "cell_type": "code",
   "execution_count": 29,
   "id": "9bd9a333-516b-45fd-a258-292454fb48ad",
   "metadata": {},
   "outputs": [
    {
     "name": "stdout",
     "output_type": "stream",
     "text": [
      "Arreglo numpy \n",
      "[10 20 30 40 50]\n",
      "Conversion a serie \n",
      "0    10\n",
      "1    20\n",
      "2    30\n",
      "3    40\n",
      "4    50\n",
      "dtype: int64\n"
     ]
    }
   ],
   "source": [
    "import numpy as np                        #Conversion de arreglo numpy a serie\n",
    "np_array = np.array([10,20,30,40,50])\n",
    "print(\"Arreglo numpy \")\n",
    "print(np_array)\n",
    "serie_nueva_2 = pd.Series(np_array)\n",
    "print(\"Conversion a serie \")\n",
    "print(serie_nueva_2)\n",
    "      \n"
   ]
  },
  {
   "cell_type": "code",
   "execution_count": 31,
   "id": "bb3f6296-9366-4a0e-b8c4-37180a0a8845",
   "metadata": {},
   "outputs": [
    {
     "name": "stdout",
     "output_type": "stream",
     "text": [
      "Serie Original \n",
      "0       100\n",
      "1       200\n",
      "2    python\n",
      "3     300.2\n",
      "4         a\n",
      "dtype: object\n",
      "Serie convertida a numerico \n",
      "0    100.0\n",
      "1    200.0\n",
      "2      NaN\n",
      "3    300.2\n",
      "4      NaN\n",
      "dtype: float64\n"
     ]
    }
   ],
   "source": [
    "s1 = pd.Series(['100','200','python','300.2','a'])  #Convertir los valores de una serie a numerico\n",
    "print(\"Serie Original \")\n",
    "print(s1)\n",
    "s2 = pd.to_numeric(s1,errors='coerce')\n",
    "print(\"Serie convertida a numerico \")\n",
    "print(s2)"
   ]
  },
  {
   "cell_type": "code",
   "execution_count": null,
   "id": "5c98baae-5c2e-4351-9920-7d50f52dee80",
   "metadata": {},
   "outputs": [],
   "source": []
  }
 ],
 "metadata": {
  "kernelspec": {
   "display_name": "Python 3 (ipykernel)",
   "language": "python",
   "name": "python3"
  },
  "language_info": {
   "codemirror_mode": {
    "name": "ipython",
    "version": 3
   },
   "file_extension": ".py",
   "mimetype": "text/x-python",
   "name": "python",
   "nbconvert_exporter": "python",
   "pygments_lexer": "ipython3",
   "version": "3.12.4"
  }
 },
 "nbformat": 4,
 "nbformat_minor": 5
}
